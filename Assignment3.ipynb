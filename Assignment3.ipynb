{
 "cells": [
  {
   "cell_type": "markdown",
   "id": "4cd7fa73-def8-4715-b782-5e879b1e72a8",
   "metadata": {},
   "source": [
    "Assignment 3"
   ]
  },
  {
   "cell_type": "markdown",
   "id": "3a7ef9d7-56d0-4041-b26a-d1e02df68b66",
   "metadata": {},
   "source": [
    "Q1. Which keyword is used to create a function ? Create a fuction to return a list of odd numbers in the\n",
    "range of 1 to 25."
   ]
  },
  {
   "cell_type": "code",
   "execution_count": 1,
   "id": "f388814d-fbf4-43df-835c-752a4d973937",
   "metadata": {},
   "outputs": [
    {
     "data": {
      "text/plain": [
       "[1, 3, 5, 7, 9, 11, 13, 15, 17, 19, 21, 23, 25]"
      ]
     },
     "execution_count": 1,
     "metadata": {},
     "output_type": "execute_result"
    }
   ],
   "source": [
    "#Ans: To create a function in python, we used 'def' keyword.\n",
    "def f():\n",
    "    l=[]\n",
    "    for i in range(1,26):\n",
    "        if i%2!=0:\n",
    "            l.append(i)\n",
    "    return l  \n",
    "f()"
   ]
  },
  {
   "cell_type": "markdown",
   "id": "a2690d3e-ad78-4012-a1ee-ab165a386288",
   "metadata": {},
   "source": [
    "Q2. Why *arg and **kwargs is used in some functions? Create a function for each *arg and **kwargs to demonstrate their use."
   ]
  },
  {
   "cell_type": "code",
   "execution_count": 2,
   "id": "854ff41d-7c85-4340-9d20-53f9dcb763c0",
   "metadata": {},
   "outputs": [
    {
     "data": {
      "text/plain": [
       "120"
      ]
     },
     "execution_count": 2,
     "metadata": {},
     "output_type": "execute_result"
    }
   ],
   "source": [
    "#Ans:When we do not know or unsure how many arguments or keyword arguments are pass in the function, we use *arg and **keyargs \n",
    "#in function in python.\n",
    "# example for *arg\n",
    "def f1(*a):  # here we used *arg. *a is passed in f1(). We shall pass multible variables in f1(), it returns the multiplication\n",
    "    k=1         # value of all passing values like as factorial number.We can take f1() as a multiplication function.\n",
    "    for i in a:\n",
    "        k=k*i\n",
    "    return k\n",
    "f1(1,2,3,4,5)"
   ]
  },
  {
   "cell_type": "code",
   "execution_count": 8,
   "id": "1ebd1de4-5b51-4e1a-a759-7e9308907151",
   "metadata": {},
   "outputs": [
    {
     "name": "stdout",
     "output_type": "stream",
     "text": [
      "Myname is xyz\n",
      "Age is 24\n",
      "Ph_no is 667796\n"
     ]
    }
   ],
   "source": [
    "# example for **kwargs\n",
    "def f2(**s):                       #here we use **kwargs in f2(). We passed the 3 keywords in f2() and print key and value \n",
    "    for key,value in s.items():      #since **kwargs return dictionery so we print  information of any person or object.\n",
    "        print(f\"{key} is {value}\")    \n",
    "      \n",
    "f2(Myname=\"xyz\",Age=24,Ph_no=667796)    "
   ]
  },
  {
   "cell_type": "markdown",
   "id": "561751ba-d84a-4ab3-8f1e-1081da4d0eb6",
   "metadata": {},
   "source": [
    "Q3. What is an iterator in python? Name the method used to initialize the iterator object and the method used for iteration.Use this methods to print the first five elements of the given list [2,4,6,8,10,12,14,16,18,20]. "
   ]
  },
  {
   "cell_type": "code",
   "execution_count": 9,
   "id": "343ba40d-bd30-4eeb-8bae-557dc163c26e",
   "metadata": {},
   "outputs": [
    {
     "name": "stdout",
     "output_type": "stream",
     "text": [
      "2\n",
      "4\n",
      "6\n",
      "8\n",
      "10\n"
     ]
    }
   ],
   "source": [
    "#Ans: An iterator is an object that contains a countable no of values and we can traverse through all the values.\n",
    "# The methode used to initialize the iterator object is iter() methode.The methode used for iteration is next() method.\n",
    "l=[2,4,6,8,10,12,14,16,18,20]\n",
    "x=iter(l)\n",
    "for i in range(0,5):\n",
    "    print(next(x))"
   ]
  },
  {
   "cell_type": "markdown",
   "id": "ae1583d0-b985-4748-85a1-b874435ffa5d",
   "metadata": {},
   "source": [
    "Q4. What is generator function in python? Why yield keyword is used? Give an example of a generator function."
   ]
  },
  {
   "cell_type": "code",
   "execution_count": 11,
   "id": "66ca7ebd-bd94-44be-bda7-ee0f9fd029b9",
   "metadata": {},
   "outputs": [
    {
     "name": "stdout",
     "output_type": "stream",
     "text": [
      "1\n",
      "2\n",
      "3\n",
      "4\n",
      "5\n",
      "6\n",
      "7\n",
      "8\n",
      "9\n",
      "10\n",
      "<class 'generator'>\n"
     ]
    }
   ],
   "source": [
    "#Ans:In python, a generator function is a function that returns an iterator that produces a sequence of values when iterated over.\n",
    "# The yield keyword in python is similar to a return statement used for returning values or objects in python.The yield statement\n",
    "# returns a generator object to the one who calls the function which contains yield, instead of simply returning a value.So\n",
    "# we used yield keyword in python.\n",
    "#example:\n",
    "def fun(n):\n",
    "    for i in range(1,n+1):\n",
    "        yield i\n",
    "s=fun(10)\n",
    "for i in s:\n",
    "    print(i)\n",
    "print(type(s))"
   ]
  },
  {
   "cell_type": "markdown",
   "id": "5c014830-f8b9-4652-8406-f112ba70226c",
   "metadata": {},
   "source": [
    "Q5. Create a generator function for prime numbers less than 1000. Use the next() method to print the first 20 prime numbers."
   ]
  },
  {
   "cell_type": "code",
   "execution_count": 11,
   "id": "c1179530-3af2-4846-87aa-76d7e36436d4",
   "metadata": {},
   "outputs": [
    {
     "name": "stdout",
     "output_type": "stream",
     "text": [
      "[2, 3, 5, 7, 11, 13, 17, 19, 23, 29, 31, 37, 41, 43, 47, 53, 59, 61, 67, 71, 73, 79, 83, 89, 97, 101, 103, 107, 109, 113, 127, 131, 137, 139, 149, 151, 157, 163, 167, 173, 179, 181, 191, 193, 197, 199, 211, 223, 227, 229, 233, 239, 241, 251, 257, 263, 269, 271, 277, 281, 283, 293, 307, 311, 313, 317, 331, 337, 347, 349, 353, 359, 367, 373, 379, 383, 389, 397, 401, 409, 419, 421, 431, 433, 439, 443, 449, 457, 461, 463, 467, 479, 487, 491, 499, 503, 509, 521, 523, 541, 547, 557, 563, 569, 571, 577, 587, 593, 599, 601, 607, 613, 617, 619, 631, 641, 643, 647, 653, 659, 661, 673, 677, 683, 691, 701, 709, 719, 727, 733, 739, 743, 751, 757, 761, 769, 773, 787, 797, 809, 811, 821, 823, 827, 829, 839, 853, 857, 859, 863, 877, 881, 883, 887, 907, 911, 919, 929, 937, 941, 947, 953, 967, 971, 977, 983, 991, 997]\n",
      "2\n",
      "3\n",
      "5\n",
      "7\n",
      "11\n",
      "13\n",
      "17\n",
      "19\n",
      "23\n",
      "29\n",
      "31\n",
      "37\n",
      "41\n",
      "43\n",
      "47\n",
      "53\n",
      "59\n",
      "61\n",
      "67\n",
      "71\n"
     ]
    }
   ],
   "source": [
    "#Ans:\n",
    "def prime(n):\n",
    "    i=2\n",
    "    while i<n:\n",
    "        for j in range(2,i):\n",
    "            if i%j==0:\n",
    "                i+=1\n",
    "                break\n",
    "        else:\n",
    "            yield i\n",
    "            i+=1\n",
    "s=list(prime(1000))\n",
    "print(s)\n",
    "x=iter(s)\n",
    "for i in range(0,20):\n",
    "    print(next(x))\n",
    "    "
   ]
  },
  {
   "cell_type": "markdown",
   "id": "b52c7ffa-95d0-43f7-b016-bbcaa19d2e54",
   "metadata": {},
   "source": [
    "Q6. Write a python program to print the first 10 fibonacci numbers using a while loop."
   ]
  },
  {
   "cell_type": "code",
   "execution_count": 12,
   "id": "8313483b-a838-49da-9cee-86a20ff44c07",
   "metadata": {},
   "outputs": [
    {
     "name": "stdout",
     "output_type": "stream",
     "text": [
      "0\n",
      "1\n",
      "1\n",
      "2\n",
      "3\n",
      "5\n",
      "8\n",
      "13\n",
      "21\n",
      "34\n"
     ]
    }
   ],
   "source": [
    "#Ans:\n",
    "n1=0\n",
    "n2=1\n",
    "n3=0\n",
    "i=0\n",
    "while i<10:\n",
    "    print(n3)\n",
    "    n1=n2      \n",
    "    n2=n3\n",
    "    n3=n1+n2\n",
    "    i+=1\n"
   ]
  },
  {
   "cell_type": "markdown",
   "id": "44ebffcb-e120-4c81-b85f-8f0c4a648ab1",
   "metadata": {},
   "source": [
    "Q7. Write a List Comprehension to iterate through the given string: 'pwskills'. "
   ]
  },
  {
   "cell_type": "code",
   "execution_count": 13,
   "id": "b988499e-4315-4a81-8def-0e0ec3b15374",
   "metadata": {},
   "outputs": [
    {
     "name": "stdout",
     "output_type": "stream",
     "text": [
      "['p', 'w', 's', 'k', 'i', 'l', 'l', 's']\n"
     ]
    }
   ],
   "source": [
    "#Ans:\n",
    "s=[i for i in \"pwskills\"]\n",
    "print(s)"
   ]
  },
  {
   "cell_type": "markdown",
   "id": "4f99a831-2ae0-4987-bd46-54d414e91d7a",
   "metadata": {},
   "source": [
    "Q8. Write a python program to check whether a given number is palindrome or not using a while loop."
   ]
  },
  {
   "cell_type": "code",
   "execution_count": 15,
   "id": "ce351585-17ab-4ea2-97f3-f7735e6a6c47",
   "metadata": {},
   "outputs": [
    {
     "name": "stdin",
     "output_type": "stream",
     "text": [
      "Enter a no:  1000\n"
     ]
    },
    {
     "name": "stdout",
     "output_type": "stream",
     "text": [
      "1000 is not Palindrome number\n"
     ]
    }
   ],
   "source": [
    "#Ans:\n",
    "n=int(input(\"Enter a no: \"))\n",
    "n1=n\n",
    "rev=0\n",
    "flag=True\n",
    "while(flag):\n",
    "    r=n%10\n",
    "    n//=10\n",
    "    rev=rev*10+r*10\n",
    "    if n>=1 and n<=9:\n",
    "        reverse=rev+n\n",
    "        flag=False\n",
    "\n",
    "if n1==reverse:\n",
    "    print(f\"{n1} is Palindrome number\")\n",
    "else:\n",
    "    print(f\"{n1} is not Palindrome number\")\n",
    "    \n",
    "\n",
    "    \n"
   ]
  },
  {
   "cell_type": "markdown",
   "id": "f3af17a8-7511-4ca7-b249-67846bbf0f24",
   "metadata": {},
   "source": [
    "Q9. Write a code to print odd numbers from 1 to 100 using list comprehension. "
   ]
  },
  {
   "cell_type": "code",
   "execution_count": 18,
   "id": "ec0468b4-b58e-4142-992f-f84ebc42e62c",
   "metadata": {},
   "outputs": [
    {
     "name": "stdout",
     "output_type": "stream",
     "text": [
      "1\n",
      "3\n",
      "5\n",
      "7\n",
      "9\n",
      "11\n",
      "13\n",
      "15\n",
      "17\n",
      "19\n",
      "21\n",
      "23\n",
      "25\n",
      "27\n",
      "29\n",
      "31\n",
      "33\n",
      "35\n",
      "37\n",
      "39\n",
      "41\n",
      "43\n",
      "45\n",
      "47\n",
      "49\n",
      "51\n",
      "53\n",
      "55\n",
      "57\n",
      "59\n",
      "61\n",
      "63\n",
      "65\n",
      "67\n",
      "69\n",
      "71\n",
      "73\n",
      "75\n",
      "77\n",
      "79\n",
      "81\n",
      "83\n",
      "85\n",
      "87\n",
      "89\n",
      "91\n",
      "93\n",
      "95\n",
      "97\n",
      "99\n"
     ]
    }
   ],
   "source": [
    "#Ans:\n",
    "l=[i for i in range(1,101)]\n",
    "m=[j for j in l if j%2!=0]\n",
    "for x in m:\n",
    "    print(x)\n",
    "    "
   ]
  },
  {
   "cell_type": "code",
   "execution_count": null,
   "id": "c4b72e1f-e13a-449b-90a7-43c8d8a98281",
   "metadata": {},
   "outputs": [],
   "source": []
  }
 ],
 "metadata": {
  "kernelspec": {
   "display_name": "Python 3 (ipykernel)",
   "language": "python",
   "name": "python3"
  },
  "language_info": {
   "codemirror_mode": {
    "name": "ipython",
    "version": 3
   },
   "file_extension": ".py",
   "mimetype": "text/x-python",
   "name": "python",
   "nbconvert_exporter": "python",
   "pygments_lexer": "ipython3",
   "version": "3.10.8"
  }
 },
 "nbformat": 4,
 "nbformat_minor": 5
}
